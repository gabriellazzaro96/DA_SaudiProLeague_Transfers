{
 "cells": [
  {
   "cell_type": "markdown",
   "metadata": {},
   "source": [
    "Importación de librerias"
   ]
  },
  {
   "cell_type": "code",
   "execution_count": 1,
   "metadata": {},
   "outputs": [],
   "source": [
    "import pandas as pd\n",
    "import numpy as np"
   ]
  },
  {
   "cell_type": "markdown",
   "metadata": {},
   "source": [
    "Lectura del dataset"
   ]
  },
  {
   "cell_type": "code",
   "execution_count": 2,
   "metadata": {},
   "outputs": [],
   "source": [
    "df = pd.read_csv(\"data\\saudi-pro-league-transfers.csv\")"
   ]
  },
  {
   "cell_type": "code",
   "execution_count": null,
   "metadata": {},
   "outputs": [],
   "source": [
    "df.head()"
   ]
  },
  {
   "cell_type": "code",
   "execution_count": null,
   "metadata": {},
   "outputs": [],
   "source": [
    "df.info()"
   ]
  },
  {
   "cell_type": "markdown",
   "metadata": {},
   "source": [
    "# Limpieza por columnas"
   ]
  },
  {
   "cell_type": "markdown",
   "metadata": {},
   "source": [
    "## Club Name"
   ]
  },
  {
   "cell_type": "markdown",
   "metadata": {},
   "source": [
    "Verificamos que no haya nombre de clubes mal escritos que aparezcan mas de una vez"
   ]
  },
  {
   "cell_type": "code",
   "execution_count": null,
   "metadata": {},
   "outputs": [],
   "source": [
    "team_list = df['club_name'].unique().tolist()"
   ]
  },
  {
   "cell_type": "code",
   "execution_count": null,
   "metadata": {},
   "outputs": [],
   "source": [
    "team_list.sort()"
   ]
  },
  {
   "cell_type": "code",
   "execution_count": null,
   "metadata": {},
   "outputs": [],
   "source": [
    "print(team_list)"
   ]
  },
  {
   "cell_type": "code",
   "execution_count": null,
   "metadata": {},
   "outputs": [],
   "source": [
    "len(df['club_name'].unique().tolist())"
   ]
  },
  {
   "cell_type": "code",
   "execution_count": null,
   "metadata": {},
   "outputs": [],
   "source": [
    "#df['club_name'] = df['club_name'].apply(str.lower)"
   ]
  },
  {
   "cell_type": "code",
   "execution_count": null,
   "metadata": {},
   "outputs": [],
   "source": [
    "df['club_name'].unique()"
   ]
  },
  {
   "cell_type": "markdown",
   "metadata": {},
   "source": [
    "Player Name"
   ]
  },
  {
   "cell_type": "code",
   "execution_count": null,
   "metadata": {},
   "outputs": [],
   "source": [
    "player_list = df['player_name'].unique().tolist()"
   ]
  },
  {
   "cell_type": "code",
   "execution_count": null,
   "metadata": {},
   "outputs": [],
   "source": [
    "len(player_list)"
   ]
  },
  {
   "cell_type": "code",
   "execution_count": null,
   "metadata": {},
   "outputs": [],
   "source": [
    "#df['player_name'] = df['player_name'].apply(str.lower)"
   ]
  },
  {
   "cell_type": "markdown",
   "metadata": {},
   "source": [
    "Age"
   ]
  },
  {
   "cell_type": "code",
   "execution_count": 15,
   "metadata": {},
   "outputs": [
    {
     "name": "stdout",
     "output_type": "stream",
     "text": [
      "26.0\n"
     ]
    }
   ],
   "source": [
    "median = df['age'].median()\n",
    "print(median)"
   ]
  },
  {
   "cell_type": "code",
   "execution_count": 16,
   "metadata": {},
   "outputs": [],
   "source": [
    "df['age'] = df['age'].fillna(median)"
   ]
  },
  {
   "cell_type": "code",
   "execution_count": null,
   "metadata": {},
   "outputs": [],
   "source": [
    "df['age'].head()"
   ]
  },
  {
   "cell_type": "code",
   "execution_count": 17,
   "metadata": {},
   "outputs": [],
   "source": [
    "df['age'] = df['age'].apply(int)"
   ]
  },
  {
   "cell_type": "markdown",
   "metadata": {},
   "source": [
    "Position"
   ]
  },
  {
   "cell_type": "code",
   "execution_count": null,
   "metadata": {},
   "outputs": [],
   "source": [
    "df['position'].unique()"
   ]
  },
  {
   "cell_type": "code",
   "execution_count": 18,
   "metadata": {},
   "outputs": [],
   "source": [
    "df['specific position'] = df['position']"
   ]
  },
  {
   "cell_type": "code",
   "execution_count": 19,
   "metadata": {},
   "outputs": [],
   "source": [
    "df['position'] = df['position'].replace('Defensive Midfield', 'Midfield')\n",
    "df['position'] = df['position'].replace('Centre-Forward', 'Forward')\n",
    "df['position'] = df['position'].replace('Right Winger', 'Forward')\n",
    "df['position'] = df['position'].replace('Centre-Back', 'Defence')"
   ]
  },
  {
   "cell_type": "code",
   "execution_count": 20,
   "metadata": {},
   "outputs": [],
   "source": [
    "df['position'] = df['position'].replace('Attacking Midfield', 'Midfield')\n",
    "df['position'] = df['position'].replace('Left Midfield', 'Midfield')\n",
    "df['position'] = df['position'].replace('Left Winger', 'Forward')\n",
    "df['position'] = df['position'].replace('Attack', 'Forward')\n",
    "df['position'] = df['position'].replace('Right Midfield', 'Midfield')\n",
    "df['position'] = df['position'].replace('Central Midfield', 'Midfield')\n",
    "df['position'] = df['position'].replace('Right-Back', 'Defence')\n",
    "df['position'] = df['position'].replace('Second Striker', 'Forward')\n",
    "df['position'] = df['position'].replace('Sweeper', 'Defence')\n",
    "df['position'] = df['position'].replace('Left-Back', 'Defence')"
   ]
  },
  {
   "cell_type": "markdown",
   "metadata": {},
   "source": [
    "Club Involved"
   ]
  },
  {
   "cell_type": "code",
   "execution_count": 21,
   "metadata": {},
   "outputs": [],
   "source": [
    "# Código no optimizado\n",
    "\"\"\"\n",
    "for index, value in df['club_involved_name'].items():\n",
    "    if 'Al-Ahli' in value:\n",
    "        df['club_involved_name'] = df['club_involved_name'].replace(value, 'Al-Ahli SC')\n",
    "for index, value in df['club_involved_name'].items():\n",
    "    if 'Abha' in value:\n",
    "        df['club_involved_name'] = df['club_involved_name'].replace(value, 'Abha Club')\n",
    "for index, value in df['club_involved_name'].items():\n",
    "    if 'Al-Batin' in value:\n",
    "        df['club_involved_name'] = df['club_involved_name'].replace(value, 'Al-Batin')\n",
    "for index, value in df['club_involved_name'].items():\n",
    "    if 'Al-Ettifaq' in value:\n",
    "        df['club_involved_name'] = df['club_involved_name'].replace(value, 'Al-Ettifaq')\n",
    "for index, value in df['club_involved_name'].items():\n",
    "    if 'Al-Faisaly U23' in value:\n",
    "        df['club_involved_name'] = df['club_involved_name'].replace(value, 'Al-Faisaly FC')\n",
    "for index, value in df['club_involved_name'].items():\n",
    "    if 'Al-Fateh' in value:\n",
    "        df['club_involved_name'] = df['club_involved_name'].replace(value, 'Al-Fateh')\n",
    "for index, value in df['club_involved_name'].items():\n",
    "    if 'Al-Fayha' in value:\n",
    "        df['club_involved_name'] = df['club_involved_name'].replace(value, 'Al-Fayha FC')\n",
    "for index, value in df['club_involved_name'].items():\n",
    "    if 'Al-Gharafa' in value:\n",
    "        df['club_involved_name'] = df['club_involved_name'].replace(value, 'Al-Gharafa SC')\n",
    "for index, value in df['club_involved_name'].items():\n",
    "    if 'Al-Hilal' in value:\n",
    "        df['club_involved_name'] = df['club_involved_name'].replace(value, 'Al-Hilal FC')\n",
    "for index, value in df['club_involved_name'].items():\n",
    "    if 'Al-Jazeera Club' in value:\n",
    "        df['club_involved_name'] = df['club_involved_name'].replace(value, 'Al-Jazira Sporting Club')\n",
    "for index, value in df['club_involved_name'].items():\n",
    "    if 'Al-Jazira' in value:\n",
    "        df['club_involved_name'] = df['club_involved_name'].replace(value, 'Al-Jazira Sporting Club')\n",
    "for index, value in df['club_involved_name'].items():\n",
    "    if 'Al-Nassr' in value:\n",
    "        df['club_involved_name'] = df['club_involved_name'].replace(value, 'Al-Nasr SC')\n",
    "for index, value in df['club_involved_name'].items():\n",
    "    if 'Al-Qadsiah' in value:\n",
    "        df['club_involved_name'] = df['club_involved_name'].replace(value, 'Al-Qadsiah FC')\n",
    "for index, value in df['club_involved_name'].items():\n",
    "    if 'Al-Raed' in value:\n",
    "        df['club_involved_name'] = df['club_involved_name'].replace(value, 'Al-Raed')\n",
    "for index, value in df['club_involved_name'].items():\n",
    "    if 'Al-Riyadh' in value:\n",
    "        df['club_involved_name'] = df['club_involved_name'].replace(value, 'Al-Riyadh SC')\n",
    "for index, value in df['club_involved_name'].items():\n",
    "    if 'Al-Shaab' in value:\n",
    "        df['club_involved_name'] = df['club_involved_name'].replace(value, 'Al-Shabab SC')\n",
    "for index, value in df['club_involved_name'].items():\n",
    "    if 'Al-Shabab' in value:\n",
    "        df['club_involved_name'] = df['club_involved_name'].replace(value, 'Al-Shabab SC')\n",
    "for index, value in df['club_involved_name'].items():\n",
    "    if 'Al-Taawoun' in value:\n",
    "        df['club_involved_name'] = df['club_involved_name'].replace(value, 'Al-Taawoun')\n",
    "for index, value in df['club_involved_name'].items():\n",
    "    if 'Al-Tai' in value:\n",
    "        df['club_involved_name'] = df['club_involved_name'].replace(value, 'Al-Tai')\n",
    "for index, value in df['club_involved_name'].items():\n",
    "    if 'Al-Wehda' in value:\n",
    "        df['club_involved_name'] = df['club_involved_name'].replace(value, 'Al-Wehda')\n",
    "for index, value in df['club_involved_name'].items():\n",
    "    if 'Al-Wehda' in value:\n",
    "        df['club_involved_name'] = df['club_involved_name'].replace(value, 'Al-Wehda')\n",
    "for index, value in df['club_involved_name'].items():\n",
    "    if 'Damac' in value:\n",
    "        df['club_involved_name'] = df['club_involved_name'].replace(value, 'Damac FC')\n",
    "for index, value in df['club_involved_name'].items():\n",
    "    if 'Ittihad C. U23' in value:\n",
    "        df['club_involved_name'] = df['club_involved_name'].replace(value, 'Ittihad Club')\n",
    "\"\"\""
   ]
  },
  {
   "cell_type": "code",
   "execution_count": 31,
   "metadata": {},
   "outputs": [],
   "source": [
    "# Crear un diccionario de mapeo de nombres de clubes\n",
    "club_mapping = {\n",
    "    'Al-Ahli': 'Al-Ahli SC',\n",
    "    'Abha': 'Abha Club',\n",
    "    'Al-Batin': 'Al-Batin',\n",
    "    'Al-Ettifaq': 'Al-Ettifaq',\n",
    "    'Al-Faisaly U23': 'Al-Faisaly FC',\n",
    "    'Al-Fateh': 'Al-Fateh',\n",
    "    'Al-Fayha': 'Al-Fayha FC',\n",
    "    'Al-Gharafa': 'Al-Gharafa SC',\n",
    "    'Al-Hilal': 'Al-Hilal FC',\n",
    "    'Al-Jazeera Club': 'Al-Jazira Sporting Club',\n",
    "    'Al-Jazira': 'Al-Jazira Sporting Club',\n",
    "    'Al-Nassr': 'Al-Nasr SC',\n",
    "    'Al-Nasr': 'Al-Nasr SC',\n",
    "    'Al-Qadsiah': 'Al-Qadsiah FC',\n",
    "    'Al-Raed': 'Al-Raed',\n",
    "    'Al-Riyadh': 'Al-Riyadh SC',\n",
    "    'Al-Shaab': 'Al-Shabab SC',\n",
    "    'Al-Shabab': 'Al-Shabab SC',\n",
    "    'Al-Shoalah U23': 'Al-Shoalah',\n",
    "    'Al-Taawoun': 'Al-Taawoun',\n",
    "    'Al-Tai': 'Al-Tai',\n",
    "    'Al-Wehda': 'Al-Wehda',\n",
    "    'Damac': 'Damac FC',\n",
    "    'Ittihad C. U23': 'Ittihad Club'\n",
    "}\n",
    "\n",
    "# Función para aplicar el reemplazo con coincidencia parcial\n",
    "def replace_club_name(name):\n",
    "    for key in club_mapping.keys():\n",
    "        if key in name:\n",
    "            return club_mapping[key]\n",
    "    return name\n",
    "\n",
    "# Aplicar la función para reemplazar los nombres de clubes\n",
    "df['club_involved_name'] = df['club_involved_name'].apply(replace_club_name)\n",
    "\n",
    "# Ahora df['club_involved_name'] tiene los nombres de clubes reemplazados\n"
   ]
  },
  {
   "cell_type": "code",
   "execution_count": 30,
   "metadata": {},
   "outputs": [
    {
     "name": "stdout",
     "output_type": "stream",
     "text": [
      "[\"1.FC K'lautern\", '1.FSV Mainz 05', '3 de Febrero', 'A. Baghdad SC', 'ABC FC', 'AC Ajaccio', 'AC Bellinzona', 'AC Milan', 'AC Tripoli', 'ACS Poli', 'ACSM Poli Iasi', 'ADI Metapán', 'AE Kifisias', 'AEK Athens', 'AFAD Djékanou', 'AFC Eskilstuna', 'AIK', 'AJ Auxerre', 'AO Xanthi', 'AOK Kerkyra', 'APOEL Nicosia', 'AS Gabès', 'AS Livorno', 'AS Lyon-Duchère', 'AS Marsa', 'AS Nancy', 'AS Roma', 'AS Saint-Priest', 'AS Vita Club', 'ASA', 'ASC Yakaar', 'ATK Mohun Bagan', 'Aalborg BK', 'Aarhus GF', 'Abha Club', 'Adana Demirspor', 'Adelaide United', 'Africa Sports', 'Ajax', 'Ajax Cape Town', 'Ajman Club', 'Akhmat Grozny', 'Aktobe', 'Al-Adalah', 'Al-Ahed', 'Al-Ahli SC', 'Al-Ain FC', 'Al-Ansar', 'Al-Anwar Club', 'Al-Arabi Irbid', 'Al-Arabi SC', 'Al-Batin', 'Al-Bukiryah FC', 'Al-Dhafra FC', 'Al-Dhaid', 'Al-Diraiyah FC', 'Al-Ettifaq', 'Al-Faisaly FC', 'Al-Faisaly SC', 'Al-Fateh', 'Al-Fayha FC', 'Al-Gharafa SC', 'Al-Hamriyah', 'Al-Hazem', 'Al-Hilal FC', 'Al-Hussein SC', 'Al-Ittifaq FC', 'Al-Jabalain', 'Al-Jahra SC', 'Al-Jaish SC', 'Al-Jamahiriyah', 'Al-Jandal SC', 'Al-Jazira Sporting Club', 'Al-Jeel', 'Al-Jubail', 'Al-Karamah SC', 'Al-Kawkab', 'Al-Khaburah SC', 'Al-Kharaitiyat', 'Al-Kholood', 'Al-Khor SC', 'Al-Lewaa Club', 'Al-Majd', 'Al-Markhiya SC', 'Al-Merrikh SC', 'Al-Mesaimeer', 'Al-Mojzel', 'Al-Muharraq', 'Al-Nahdah FC', 'Al-Nairyah Club', 'Al-Najma', 'Al-Najma SC', 'Al-Nasr SC', 'Al-Nojoom FC', 'Al-Okhdood', 'Al-Orobah FC', 'Al-Orouba SC', 'Al-Qadsiah FC', 'Al-Qaisumah FC', 'Al-Raed', 'Al-Ramtha SC', 'Al-Rawdah SC', 'Al-Rayyan SC', 'Al-Riffa SC', 'Al-Riyadh SC', 'Al-Sadd SC', 'Al-Safa', 'Al-Sahel Club', 'Al-Sailiya SC', 'Al-Salmiya SC', 'Al-Salt SC', 'Al-Shabab SC', 'Al-Shahania SC', 'Al-Shamal SC', 'Al-Shoalah U23', 'Al-Shorta SC', 'Al-Suqoor', 'Al-Suwaiq', 'Al-Taawoun', 'Al-Tadamon SC', 'Al-Tai', 'Al-Taqadom', 'Al-Taraji', 'Al-Thoqbah', 'Al-Wahda FC', 'Al-Wahda SC', 'Al-Wakrah SC', 'Al-Washm', 'Al-Wasl', 'Al-Watani', 'Al-Wehda', 'Al-Yarmouk', 'Al-Zawraa SC', 'Alavés', 'Alcobendas', 'Alecrim', 'Alianza Lima', 'Alianza Petrol.', 'Altay SK', 'Altinordu', 'Always Ready', 'AmaZulu FC', 'Amiens SC', 'América', 'América-RJ', 'América-RN', 'América-SP', 'Anadia FC', 'Anag. Karditsas', 'Anderlecht U19', 'Antalyaspor', 'Antofagasta', 'Apol. Limassol', 'Apollon Smyrnis', 'Arar FC', 'Araxá', 'Arda Kardzhali', 'Argentinos Jrs.', 'Aris Limassol', 'Arka Gdynia', 'Arm. Bielefeld', 'Army Utd.', 'Arouca', 'Arsenal', 'Arsenal Sarandí', 'Asante Kotoko', 'Assyriska FF', 'Asteras Tripoli', 'Astra Giurgiu', 'Athinaikos', 'Athletic', 'Athletico-PR', 'Atl. Nacional', 'Atlanta', 'Atlético-GO', 'Atlético-MG', 'Atlético-PR', 'Atromitos', 'Audax Italiano', 'Audax-RJ', 'Aurora', 'Austria Vienna', 'Avaí FC', 'Avispa Fukuoka', 'Azam FC', 'BJ Guoan', 'BJ Renhe', 'BSC Young Boys', 'Ban', 'Bangkok Utd.', 'Baraúnas', 'Barcelona', 'Bargh Shiraz FC', 'Barueri', 'Basaksehir', 'Bayern Munich', 'Belasica', 'Belenenses', 'Benevento', 'Benfica', 'Berekum Chelsea', 'Beroe', 'Besiktas', 'Bisha FC', 'Bnei Sakhnin', 'Boavista', 'Boca Juniors', 'Bodø/Glimt', 'Bold FC', 'Bolton', 'Bolívar', 'Bor. Dortmund', 'Botafogo', 'Botafogo-SP', 'Boussu Dour', 'Boyacá Chicó', 'Braga B', 'Bragantino', 'Brasiliense', 'Brisbane Roar', 'Brora Rangers', 'Budaiya Club', 'Buriram Utd.', 'Bursaspor', 'Busaiteen Club', 'Busan IPark', 'C. Rizespor', 'CA Batna', 'CA Bizertin', 'CA Colon', 'CC Yatai', 'CD América', 'CD Cruz Azul', 'CD El Nacional', 'CD Fátima', 'CD Leganés', 'CD Macará', 'CD Numancia', 'CD Olimpia', 'CFR Cluj', 'CFZ-DF', 'CO Bamako', 'CQ Lifan', 'CR Belouizdad', 'CR Béni Thour', 'CRB', 'CS Constantine', 'CS Emelec', 'CS Hammam-Lif', 'CS Sfaxien', 'CSA', 'CSD Municipal', 'CSKA-Sofia', 'Cagliari Calcio', 'Caldas Novas', 'Career break', 'Casertana', 'Caxias-RS', 'Ceará SC', 'Celta de Vigo', 'Celtic', 'Central Córdoba', 'Cerezo Osaka', 'Cerro Porteño', 'Chacarita Jrs.', 'Chapecoense', 'Chaux-de-Fonds', 'Chaves', 'Chelsea', 'Chemnitzer FC', 'Chennaiyin FC', 'Chernomorets N.', 'Chiangrai Utd.', 'Chicago', 'Cincinnati', 'Civitanovese', 'Clermont Foot', 'Club Africain', 'Club Brugge', 'Club General', 'Club Tijuana', 'Coast Stars', 'Cobreloa', 'Cobresol', 'Coimbra', 'Colo Colo', 'Columbus', 'Comercial-SP', 'Concordia', 'Corinthians', 'Coritiba FC', 'Coruripe', 'Coton Sport FC', 'Cova Piedade', 'Criciúma EC', 'Cruzeiro', 'Cuiabá-MT', 'CyD Leonesa', 'César Vallejo', 'Córdoba CF', 'D.C. United', 'DNŠ Zavrč', 'Daejeon Citizen', 'Dallas', 'Damac FC', 'Danubio FC', 'De Graafschap', 'Dep. Cuenca', 'Dep. La Coruña', 'Deportes Tolima', 'Deportivo Cali', 'Desp. Brasil', 'Desportivo Aves', 'Dhofar Club', 'Diables Noirs', 'Dibba Fujairah', 'Difaâ El Jadida', 'Dijon', 'Dinamo Minsk', 'Dinamo Zagreb', 'Djoliba AC', 'Djurgården', 'Dnipro', 'Dorados Sinaloa', 'Dubai CSC', 'Dynamo Kyiv', 'E. Frankfurt', 'EC Bahia', 'EC Vitória', 'ES Sahel', 'ES Sétif', 'ES Zarzis', 'East Riffa', 'Edessaikos', 'El Ahly', 'El Mahalla', 'El Makasa', 'El Mareekh', 'El Masry', 'El Mokawloon', 'El-Jaish', 'Elche CF', 'Emirates Club', 'Enisey', 'Enppi SC', 'Entag El Harby', 'Entente SSG', 'Enugu Rangers', 'Erbil SC', 'Espanyol', 'Esperance', 'Esteghlal FC', 'Estoril Praia', 'Ethn. Piraeus', 'Ethnikos', 'F. Düsseldorf', 'FAR Rabat', 'FBC Melgar', 'FC Aarau', 'FC Aboomoslem', 'FC Arges', 'FC Astana', 'FC Baniyas', 'FC Basel', 'FC Botosani', 'FC Dinamo', 'FC Djurs', 'FC Gueugnon', 'FC Heartland', 'FC Juárez', 'FC Luzern', 'FC Marco', 'FC Metz', 'FC Midtjylland', 'FC Nantes', 'FC Porto', 'FC Seoul', 'FC Sheriff', 'FC Sion', 'FC Sochaux', 'FC St. Gallen', 'FC St. Pauli', 'FC Thun', 'FC Timisoara', 'FC Tokyo', 'FC Utrecht', 'FC Van', 'FC Vaslui', 'FC Viitorul', 'FC Zürich', 'FCSB', 'FK Bezanija', 'FK Kukësi', 'FK Partizani', 'FK Sarajevo', 'FK Senica', 'FUS Rabat', 'Fagiano Okayama', 'Famalicão', 'Fanja SC', 'Farense', 'Fenerbahce', 'Ferencváros', 'Ferroviária', 'Feyenoord', 'Figueirense FC', 'Flamengo', 'Flamurtari FC', 'Fluminense', 'Forex Brasov', 'Fortaleza', 'Fortuna Sittard', 'Fujairah SC', 'Fulham', 'Fátima', 'G. Bordeaux', 'GAIS', 'GKS Belchatow', 'GOSK Gabela', 'Galatasaray', 'Galo Maringá', 'Gamba Osaka', 'Gateway FC', 'Gaz Metan', 'Gaziantep FK', 'Gaziantepspor', 'Gebhardshagen', 'Genclerbirligi', 'Genoa', 'Gil Vicente', 'Gimnasia', 'Gimnàstic', 'Giresunspor', 'Girona', 'Goiás', 'Gold Coast Utd.', 'Granada CF', 'Grasshoppers', 'Grêmio', 'GuaZ FC', 'Guarani', 'Guaratinguetá', 'Gwangju FC', 'Göztepe', 'HAGL FC', 'HJK Helsinki', 'HNK Gorica', 'HNK Rijeka', 'Hajduk Split', 'Hajer', 'Hajer Club U23', 'Halmstads BK', 'Hamburger SV', 'Hampton & Rich.', 'Hannover 96', 'Hapoel Haifa', 'Hapoel Tel Aviv', 'Harras Hodoud', 'Hassania', 'Hatayspor', 'Hatta Club', 'Haugesund', 'Heart of Lions', 'Heart of Midl.', 'Hearts of Oak', 'Heerenveen', 'Helsingborgs IF', 'Heracles Almelo', 'Herfölge BK', 'Hertha BSC', 'Hetten FC', 'Heusden-Zolder', 'Hibernian FC', 'Hibernians FC', 'Hidd SCC', 'Honvéd', 'Huachipato', 'Huracán', 'Häcken', 'IFK Göteborg', 'IFK Mariehamn', 'Incheon Utd.', 'Indep. Santa Fe', 'Independiente', 'Inter', 'Inter Zapresic', 'Internacional', 'Ionikos Nikeas', 'Ismaily', 'Istanbulspor', 'Ittihad Alex', 'Ittihad Club', 'Ittihad Kalba', 'Ittihad Tanger', 'JEF Utd. Chiba', 'JMalucelli', 'JS Kabylie', 'JS Kairouan', 'JS Saoura', 'JSM Bejaia', 'Jabaquara-SP', 'Jagiellonia', 'Jeddah FC', 'Jelgava', 'Jeonbuk Hyundai', 'Johor DT', 'José Gálvez', 'Julius Berger', 'Junior FC', 'Juv. Évora', 'Juventude', 'Juventus', 'K. Erciyesspor', 'KAA Gent', 'KF Laçi', 'KF Tirana', 'KF Vllaznia', 'KFCO Beerschot', 'KRC Genk', 'KS Samara', 'KSC Lokeren', 'KV Kortrijk', 'KV Mechelen', 'KV Oostende', 'KVC Westerlo', 'Kamatam. Sanuki', 'Karagümrük', 'Karmiotissa', 'Karpaty', 'Kashima Antlers', 'Kashiwa Reysol', 'Kasimpasa', 'Kawkab Marrak.', 'Kayserispor', 'Kazma SC', 'Kelantan FC', 'Khaleej', 'Khaleej FC U23', 'Khor Fakkan', 'Konyaspor', 'Krasnodar', 'Kristiansund', 'Kuwait SC', 'Kyoto Sanga', 'Kénitra', 'LAFC', 'LB Châteauroux', 'LDU Quito', 'LOSC Lille', 'Lajeadense', 'Lanús', 'Lausanne-Sport', 'Lazio', 'Lecce', 'Lech Poznan', 'Leeds', 'Legia Warszawa', 'Leicester', 'Leiria', 'Lekhwiya', 'Lens', 'Levante', 'Levski Sofia', 'Liaoning FC', 'Liverpool', 'Loko Moscow', 'Loko Plovdiv', 'Loko Tashkent', 'Londrina-PR', 'Los Angeles', 'Louletano', 'Lusitano VRSA', 'Luverdense', 'M. Tel Aviv', 'MAS Fes', 'MC Algiers', 'MC Oran', 'MFK Košice', 'MO Béjaïa', 'MTK Budapest', 'Macaé', 'Madureira', 'Magwe FC', 'Majees SC', 'Malkiya Club', 'Malmö FF', 'Man City', 'Man Utd', 'Manama Club', 'Maritzburg Utd.', 'Marseille', 'Marília', 'Marítimo', 'Matsumoto Yama.', 'Melbourne', 'Melbourne City', 'Mersin IY', 'Mes Kerman', 'Metalac', 'Metalist', 'Metalurg Skopje', 'MetroStars', 'Miami', 'Middlesbrough', 'Millonarios', 'Mirassol-SP', 'Mladost', 'Modena', 'Moghreb Tétouan', 'Mogi Mirim', 'Mohammedan', 'Molde', 'Monaco', 'Mondeville', 'Monterrey', 'Montréal', 'Moreirense', 'Moto Club', 'Muaither SC', 'Muangthong Utd.', 'Mumbai City', 'Muscat Club', 'Muzahimiyyah', 'Málaga CF', 'NA Hussein Dey', 'NAC Breda', 'NK Istra', 'NK Lokomotiva', 'NK Maribor', 'NK Osijek', 'NK Sesvete', 'NK Solin', 'NK Varazdin', 'NY Cosmos', 'Nacional', 'Nacional-SP', 'Naft Missan', 'Nagoya Grampus', 'Najran SC', 'Najran SC U23', 'Napoli', 'Napredak', 'Naval', 'Naxxar Lions FC', 'Necaxa', 'Neftchi Baku', 'Nejmeh SC', 'Neuchâtel Xamax', 'New York', 'New York City', 'Newcastle', \"Newell's\", 'Nkana FC', 'North Qld Fury', 'Novi Pazar', 'Novorizontino', 'Náutico', 'O. Khouribga', 'OFI Crete FC', 'OFK Beograd', 'OH Leuven', 'Odense BK', 'Oeste', 'Ohod Club', 'Olhanense', 'Olympiacos', 'Olympiacos B', 'Olympique Beja', 'Olympique Lyon', 'Oman Club', 'Once Caldas', 'Operário VG', 'Operário-PR', 'Oriental', 'Oriente P.', 'Orlando Pirates', 'Osmanlispor', 'Own Youth', 'PAOK Salonika', 'PAS Lamia', 'PEC Zwolle', 'PT Prachuap FC', 'Pachuca', 'Pacific FC', 'Pafos FC', 'Pakhtakor', 'Palestino', 'Palmeiras', 'Panathinaikos', 'Pandurii', 'Panetolikos', 'Panionios', 'Paraná', 'Paris SG', 'Partizan', 'Paulista', 'Paysandu', 'Paços Ferreira', 'Penapolense', 'Perak', 'Persepolis', 'Persija Jakarta', 'Perth Glory', 'Petro Luanda', 'Petrojet', 'Petrolul', 'Peñarol', 'Plaza Amador', 'Plaza Colonia', 'Podbrezova', 'Ponte Preta', 'Portimonense', 'Portland', 'Portsmouth U21', 'Portuguesa', 'Puebla FC', 'Pyramids FC', 'QPR', 'Qadsia SC', 'Qarabag FK', 'Qatar SC', 'Querétaro FC', 'Quevilly Rouen', 'Quissamã-RJ', 'R. Strasbourg', 'RB Bragantino', 'RB Salzburg', 'RCD Mallorca', 'RFC Seraing', 'RKC Waalwijk', 'RS Berkane', 'RSC Anderlecht', 'RSC Charleroi', 'Racing', 'Racing Club', 'Radnicki Obrenovac', 'Radnik', 'Raja Casablanca', 'Rangers', 'Rapid Bucharest', 'Ratchaburi FC', 'Ravenna', 'Rayo Vallecano', 'Reading', 'Real Betis', 'Real Madrid', 'Real Valladolid', 'Red Star', 'Rennes', 'Retired', 'Retrô', 'Rio Ave', 'River Plate', 'Rosario Central', 'Rosenborg', 'Rostov', 'Royal Antwerp', 'SC Braga', 'SC Freiburg', 'SE Gama', 'SH Shenhua', 'SM Caen', 'SPAL', 'SSC Napoli', 'SZ FC', 'SZ FC Res.', 'Safa Beirut SC', 'Sagan Tosu', 'Sagesse SC', 'Saham Club', 'Sampaio Corrêa', 'San Francisco', 'San Lorenzo', 'San Martín (SJ)', 'Sanliurfaspor', 'Santa Clara', 'Santa Cruz', 'Santa Rita', 'Santo André', 'Santos', 'Santos Laguna', 'Saprissa', 'Schweinfurt 05', 'Seongnam FC', 'Seongnam Ilhwa', 'Sepahan', 'Sepsi OSK', 'Sertãozinho', 'Sevilla FC', 'Shabab Al-Ordon', 'Sharjah FC', 'Sheff Wed', 'Shillong Lajong', 'Shimizu S-Pulse', 'Shkendija', 'Shkumbini Peqin', 'Shoalah', 'Simurq', 'Sint-Truiden', 'Sitra Club', 'Sivasspor', 'Slaven Belupo', 'Slavia Prague', 'Slavia Sofia', 'Slo. Bratislava', 'Sloboda Uzice', 'Smouha', 'Sohar SC', 'Southampton', 'Sparta Prague', 'Sparta R.', 'Sport Boys', 'Sport Recife', 'Sport. Cristal', 'Sporting CP', 'St. Mirren', 'Stade Lavallois', 'Stade Malien', 'Stade Reims', 'Stade Tunisien', 'Staines Town FC', 'Standard Liège', 'Steaua Bucharest', 'Stoke City', 'Sturm Graz', 'Sunderland', 'Suwon Bluewings', 'São Bernardo', 'São Caetano', 'São Paulo', 'TSG Hoffenheim', 'Taliya SC', 'Taranto', 'Terek Grozny', 'Teteks Tetovo', 'Tiburones Rojos', 'Tigre', 'Tigres', 'Tigres UANL', 'Tishreen SC', 'Tobol Kostanay', 'Tokushima Vort.', 'Tom Tomsk', 'Tombense', 'Tondela', 'Toronto', 'Tottenham', 'Toulouse', 'Trabzonspor', 'Tricordiano-MG', 'Troyes', 'Tusker FC', 'Twente FC', 'Táchira', 'U. Craiova', 'U. de Chile', 'UD Melilla', 'UD Salamanca', 'UNAM Pumas', 'US Ben Guerdane', 'US Boulogne', 'US Castanet', 'US Monastir', 'US Tataouine', 'USM Alger', 'USM Annaba', 'USM El Harrach', 'Udinese Calcio', 'Ufa', 'Ulsan Hyundai', 'Umm Salal SC', 'Uni. Católica', 'Union SG', 'Unirea Urziceni', 'Universitario', 'União Madeira', 'Unknown', 'Urawa Reds', 'Valencia', 'Valletta', 'Vardar', 'Vasco da Gama', 'Vejle BK', 'Vendsyssel FF', 'Vereya', 'VfB Stuttgart', 'VfL Bochum', 'Videoton FC', 'Viktoria Plzen', 'Vila Aurora', 'Vila Nova FC', 'Villarreal', 'Vit. Guimarães', 'Vitesse', 'Vitória Setúbal', 'Vizela', 'Volta Redonda', 'Vozdovac', 'Värnamo', 'Vélez Sarsfield', 'WH Three Towns', 'Wadi Al-Nes', 'Wadi Degla', 'Wanderers', 'Watford', 'Wej SC', 'Wellington P.', 'West Brom', 'West Ham', 'Western Sydney', 'Western United', 'Wiener Neustadt', 'Willem II', 'Wilstermann', 'Wisla Kraków', 'Without Club', 'Wolves', 'Wydad AC', 'Xamax', 'Xäzär Länkäran', 'Y. Malatyaspor', 'Yverdon Sport', 'Z. Kömürspor', 'ZESCO United FC', 'Zaglebie Lubin', 'Zamalek', 'Zanaco FC', 'Zeljeznicar', 'Zenit S-Pb', 'Zob Ahan', 'Zulfi FC', 'Águilas Pereira', 'Örebro SK', 'Örebro Syr.', 'Čukarički']\n"
     ]
    }
   ],
   "source": [
    "club_involved_list = df['club_involved_name'].unique().tolist()\n",
    "club_involved_list.sort()\n",
    "print(club_involved_list)"
   ]
  },
  {
   "cell_type": "code",
   "execution_count": 32,
   "metadata": {},
   "outputs": [
    {
     "data": {
      "text/plain": [
       "935"
      ]
     },
     "execution_count": 32,
     "metadata": {},
     "output_type": "execute_result"
    }
   ],
   "source": [
    "len(club_involved_list)"
   ]
  },
  {
   "cell_type": "markdown",
   "metadata": {},
   "source": [
    "Fee"
   ]
  },
  {
   "cell_type": "code",
   "execution_count": null,
   "metadata": {},
   "outputs": [],
   "source": [
    "fee_list = df['fee'].unique().tolist()"
   ]
  },
  {
   "cell_type": "code",
   "execution_count": null,
   "metadata": {},
   "outputs": [],
   "source": [
    "fee_list.sort()\n",
    "print(fee_list)"
   ]
  },
  {
   "cell_type": "code",
   "execution_count": 33,
   "metadata": {},
   "outputs": [],
   "source": [
    "df['fee'] = df['fee'].fillna('-')"
   ]
  },
  {
   "cell_type": "code",
   "execution_count": 34,
   "metadata": {},
   "outputs": [],
   "source": [
    "df['fee'] = df['fee'].replace('?','-')"
   ]
  },
  {
   "cell_type": "code",
   "execution_count": null,
   "metadata": {},
   "outputs": [],
   "source": [
    "df['fee'] = df['fee'].apply(str.lower)"
   ]
  },
  {
   "cell_type": "code",
   "execution_count": 35,
   "metadata": {},
   "outputs": [],
   "source": [
    "def get_type_operation(value):\n",
    "    if 'loan' in value:\n",
    "        return \"loan\"\n",
    "    elif '€' in value:\n",
    "        return \"transfer\"\n",
    "    elif 'free' in value:\n",
    "        return \"free\"\n",
    "    else:\n",
    "        return \"-\""
   ]
  },
  {
   "cell_type": "code",
   "execution_count": 36,
   "metadata": {},
   "outputs": [],
   "source": [
    "df['type_operation'] = df['fee'].apply(get_type_operation)"
   ]
  },
  {
   "cell_type": "code",
   "execution_count": 37,
   "metadata": {},
   "outputs": [
    {
     "data": {
      "text/plain": [
       "['-', 'loan', 'transfer', 'free']"
      ]
     },
     "execution_count": 37,
     "metadata": {},
     "output_type": "execute_result"
    }
   ],
   "source": [
    "df['type_operation'].unique().tolist()"
   ]
  },
  {
   "cell_type": "markdown",
   "metadata": {},
   "source": [
    "Fee Cleaned"
   ]
  },
  {
   "cell_type": "code",
   "execution_count": 41,
   "metadata": {},
   "outputs": [],
   "source": [
    "df['fee_cleaned'] = df['fee_cleaned'].fillna(0)"
   ]
  },
  {
   "cell_type": "code",
   "execution_count": 42,
   "metadata": {},
   "outputs": [],
   "source": [
    "df['fee_cleaned'] = df['fee_cleaned']*1000000"
   ]
  },
  {
   "cell_type": "markdown",
   "metadata": {},
   "source": [
    "Transfer Movement"
   ]
  },
  {
   "cell_type": "code",
   "execution_count": 44,
   "metadata": {},
   "outputs": [
    {
     "name": "stdout",
     "output_type": "stream",
     "text": [
      "<class 'pandas.core.frame.DataFrame'>\n",
      "RangeIndex: 7858 entries, 0 to 7857\n",
      "Data columns (total 15 columns):\n",
      " #   Column              Non-Null Count  Dtype  \n",
      "---  ------              --------------  -----  \n",
      " 0   club_name           7858 non-null   object \n",
      " 1   player_name         7858 non-null   object \n",
      " 2   age                 7858 non-null   int64  \n",
      " 3   position            7858 non-null   object \n",
      " 4   club_involved_name  7858 non-null   object \n",
      " 5   fee                 7858 non-null   object \n",
      " 6   transfer_movement   7858 non-null   object \n",
      " 7   transfer_period     7858 non-null   object \n",
      " 8   fee_cleaned         7858 non-null   float64\n",
      " 9   league_name         7858 non-null   object \n",
      " 10  year                7858 non-null   int64  \n",
      " 11  season              7858 non-null   object \n",
      " 12  country             7858 non-null   object \n",
      " 13  specific position   7858 non-null   object \n",
      " 14  type_operation      7858 non-null   object \n",
      "dtypes: float64(1), int64(2), object(12)\n",
      "memory usage: 921.0+ KB\n"
     ]
    }
   ],
   "source": [
    "df.info()"
   ]
  },
  {
   "cell_type": "code",
   "execution_count": 45,
   "metadata": {},
   "outputs": [
    {
     "data": {
      "text/plain": [
       "array(['in', 'out'], dtype=object)"
      ]
     },
     "execution_count": 45,
     "metadata": {},
     "output_type": "execute_result"
    }
   ],
   "source": [
    "df['transfer_movement'].unique()"
   ]
  },
  {
   "cell_type": "markdown",
   "metadata": {},
   "source": [
    "Transfer Period"
   ]
  },
  {
   "cell_type": "code",
   "execution_count": 46,
   "metadata": {},
   "outputs": [
    {
     "data": {
      "text/plain": [
       "array(['Summer', 'Winter'], dtype=object)"
      ]
     },
     "execution_count": 46,
     "metadata": {},
     "output_type": "execute_result"
    }
   ],
   "source": [
    "df['transfer_period'].unique()"
   ]
  },
  {
   "cell_type": "markdown",
   "metadata": {},
   "source": [
    "League name"
   ]
  },
  {
   "cell_type": "code",
   "execution_count": null,
   "metadata": {},
   "outputs": [],
   "source": [
    "df['league_name'].unique()"
   ]
  },
  {
   "cell_type": "markdown",
   "metadata": {},
   "source": [
    "Year"
   ]
  },
  {
   "cell_type": "code",
   "execution_count": 47,
   "metadata": {},
   "outputs": [],
   "source": [
    "df['year'] = df['year'].apply(str)"
   ]
  },
  {
   "cell_type": "code",
   "execution_count": 48,
   "metadata": {},
   "outputs": [
    {
     "data": {
      "text/plain": [
       "array(['2000', '2001', '2002', '2003', '2004', '2005', '2006', '2007',\n",
       "       '2008', '2009', '2010', '2011', '2012', '2013', '2014', '2015',\n",
       "       '2016', '2017', '2018', '2019', '2020', '2021', '2022', '2023',\n",
       "       '2024'], dtype=object)"
      ]
     },
     "execution_count": 48,
     "metadata": {},
     "output_type": "execute_result"
    }
   ],
   "source": [
    "df['year'].unique()"
   ]
  },
  {
   "cell_type": "markdown",
   "metadata": {},
   "source": [
    "Season"
   ]
  },
  {
   "cell_type": "code",
   "execution_count": null,
   "metadata": {},
   "outputs": [],
   "source": [
    "df['season']"
   ]
  },
  {
   "cell_type": "markdown",
   "metadata": {},
   "source": [
    "Country"
   ]
  },
  {
   "cell_type": "code",
   "execution_count": null,
   "metadata": {},
   "outputs": [],
   "source": [
    "df['country'].unique()"
   ]
  },
  {
   "cell_type": "code",
   "execution_count": 54,
   "metadata": {},
   "outputs": [
    {
     "data": {
      "text/html": [
       "<div>\n",
       "<style scoped>\n",
       "    .dataframe tbody tr th:only-of-type {\n",
       "        vertical-align: middle;\n",
       "    }\n",
       "\n",
       "    .dataframe tbody tr th {\n",
       "        vertical-align: top;\n",
       "    }\n",
       "\n",
       "    .dataframe thead th {\n",
       "        text-align: right;\n",
       "    }\n",
       "</style>\n",
       "<table border=\"1\" class=\"dataframe\">\n",
       "  <thead>\n",
       "    <tr style=\"text-align: right;\">\n",
       "      <th></th>\n",
       "      <th>club_name</th>\n",
       "      <th>player_name</th>\n",
       "      <th>age</th>\n",
       "      <th>position</th>\n",
       "      <th>club_involved_name</th>\n",
       "      <th>fee</th>\n",
       "      <th>transfer_movement</th>\n",
       "      <th>transfer_period</th>\n",
       "      <th>fee_cleaned</th>\n",
       "      <th>league_name</th>\n",
       "      <th>year</th>\n",
       "      <th>season</th>\n",
       "      <th>country</th>\n",
       "      <th>specific position</th>\n",
       "      <th>type_operation</th>\n",
       "    </tr>\n",
       "  </thead>\n",
       "  <tbody>\n",
       "    <tr>\n",
       "      <th>3</th>\n",
       "      <td>Al-Hilal SFC</td>\n",
       "      <td>Saleh Al-Salloumi</td>\n",
       "      <td>37</td>\n",
       "      <td>Goalkeeper</td>\n",
       "      <td>Retired</td>\n",
       "      <td>Retired</td>\n",
       "      <td>out</td>\n",
       "      <td>Summer</td>\n",
       "      <td>0.0</td>\n",
       "      <td>Saudi Professional League</td>\n",
       "      <td>2000</td>\n",
       "      <td>2000/2001</td>\n",
       "      <td>Saudi Arabia</td>\n",
       "      <td>Goalkeeper</td>\n",
       "      <td>Retired</td>\n",
       "    </tr>\n",
       "    <tr>\n",
       "      <th>4</th>\n",
       "      <td>Al-Hilal SFC</td>\n",
       "      <td>Elijah Litana</td>\n",
       "      <td>29</td>\n",
       "      <td>Defence</td>\n",
       "      <td>Retired</td>\n",
       "      <td>Retired</td>\n",
       "      <td>out</td>\n",
       "      <td>Summer</td>\n",
       "      <td>0.0</td>\n",
       "      <td>Saudi Professional League</td>\n",
       "      <td>2000</td>\n",
       "      <td>2000/2001</td>\n",
       "      <td>Saudi Arabia</td>\n",
       "      <td>Centre-Back</td>\n",
       "      <td>Retired</td>\n",
       "    </tr>\n",
       "    <tr>\n",
       "      <th>11</th>\n",
       "      <td>Ittihad Club</td>\n",
       "      <td>Roberto Donadoni</td>\n",
       "      <td>36</td>\n",
       "      <td>Midfield</td>\n",
       "      <td>Retired</td>\n",
       "      <td>Retired</td>\n",
       "      <td>out</td>\n",
       "      <td>Summer</td>\n",
       "      <td>0.0</td>\n",
       "      <td>Saudi Professional League</td>\n",
       "      <td>2000</td>\n",
       "      <td>2000/2001</td>\n",
       "      <td>Saudi Arabia</td>\n",
       "      <td>Right Midfield</td>\n",
       "      <td>Retired</td>\n",
       "    </tr>\n",
       "    <tr>\n",
       "      <th>15</th>\n",
       "      <td>Al-Nassr FC</td>\n",
       "      <td>Fahad Al Bishi</td>\n",
       "      <td>34</td>\n",
       "      <td>Midfield</td>\n",
       "      <td>Retired</td>\n",
       "      <td>Retired</td>\n",
       "      <td>out</td>\n",
       "      <td>Summer</td>\n",
       "      <td>0.0</td>\n",
       "      <td>Saudi Professional League</td>\n",
       "      <td>2000</td>\n",
       "      <td>2000/2001</td>\n",
       "      <td>Saudi Arabia</td>\n",
       "      <td>Midfield</td>\n",
       "      <td>Retired</td>\n",
       "    </tr>\n",
       "    <tr>\n",
       "      <th>27</th>\n",
       "      <td>Al-Riyadh SC</td>\n",
       "      <td>Moussa N'Daw</td>\n",
       "      <td>31</td>\n",
       "      <td>Forward</td>\n",
       "      <td>Retired</td>\n",
       "      <td>Retired</td>\n",
       "      <td>out</td>\n",
       "      <td>Summer</td>\n",
       "      <td>0.0</td>\n",
       "      <td>Saudi Professional League</td>\n",
       "      <td>2000</td>\n",
       "      <td>2000/2001</td>\n",
       "      <td>Saudi Arabia</td>\n",
       "      <td>Centre-Forward</td>\n",
       "      <td>Retired</td>\n",
       "    </tr>\n",
       "    <tr>\n",
       "      <th>...</th>\n",
       "      <td>...</td>\n",
       "      <td>...</td>\n",
       "      <td>...</td>\n",
       "      <td>...</td>\n",
       "      <td>...</td>\n",
       "      <td>...</td>\n",
       "      <td>...</td>\n",
       "      <td>...</td>\n",
       "      <td>...</td>\n",
       "      <td>...</td>\n",
       "      <td>...</td>\n",
       "      <td>...</td>\n",
       "      <td>...</td>\n",
       "      <td>...</td>\n",
       "      <td>...</td>\n",
       "    </tr>\n",
       "    <tr>\n",
       "      <th>6929</th>\n",
       "      <td>Ittihad Club</td>\n",
       "      <td>Karim El Ahmadi</td>\n",
       "      <td>37</td>\n",
       "      <td>Midfield</td>\n",
       "      <td>Retired</td>\n",
       "      <td>Retired</td>\n",
       "      <td>out</td>\n",
       "      <td>Winter</td>\n",
       "      <td>0.0</td>\n",
       "      <td>Saudi Professional League</td>\n",
       "      <td>2021</td>\n",
       "      <td>2021/2022</td>\n",
       "      <td>Saudi Arabia</td>\n",
       "      <td>Defensive Midfield</td>\n",
       "      <td>Retired</td>\n",
       "    </tr>\n",
       "    <tr>\n",
       "      <th>7181</th>\n",
       "      <td>Al-Raed SFC</td>\n",
       "      <td>Éder</td>\n",
       "      <td>34</td>\n",
       "      <td>Forward</td>\n",
       "      <td>Retired</td>\n",
       "      <td>Retired</td>\n",
       "      <td>out</td>\n",
       "      <td>Summer</td>\n",
       "      <td>0.0</td>\n",
       "      <td>Saudi Professional League</td>\n",
       "      <td>2022</td>\n",
       "      <td>2022/2023</td>\n",
       "      <td>Saudi Arabia</td>\n",
       "      <td>Centre-Forward</td>\n",
       "      <td>Retired</td>\n",
       "    </tr>\n",
       "    <tr>\n",
       "      <th>7227</th>\n",
       "      <td>Abha Club</td>\n",
       "      <td>Karam Barnawi</td>\n",
       "      <td>35</td>\n",
       "      <td>Defence</td>\n",
       "      <td>Retired</td>\n",
       "      <td>Retired</td>\n",
       "      <td>out</td>\n",
       "      <td>Summer</td>\n",
       "      <td>0.0</td>\n",
       "      <td>Saudi Professional League</td>\n",
       "      <td>2022</td>\n",
       "      <td>2022/2023</td>\n",
       "      <td>Saudi Arabia</td>\n",
       "      <td>Right-Back</td>\n",
       "      <td>Retired</td>\n",
       "    </tr>\n",
       "    <tr>\n",
       "      <th>7517</th>\n",
       "      <td>Al-Ahli SFC</td>\n",
       "      <td>Yasser Al-Mosailem</td>\n",
       "      <td>39</td>\n",
       "      <td>Goalkeeper</td>\n",
       "      <td>Retired</td>\n",
       "      <td>Retired</td>\n",
       "      <td>out</td>\n",
       "      <td>Summer</td>\n",
       "      <td>0.0</td>\n",
       "      <td>Saudi Professional League</td>\n",
       "      <td>2023</td>\n",
       "      <td>2023/2024</td>\n",
       "      <td>Saudi Arabia</td>\n",
       "      <td>Goalkeeper</td>\n",
       "      <td>Retired</td>\n",
       "    </tr>\n",
       "    <tr>\n",
       "      <th>7649</th>\n",
       "      <td>Al-Shabab FC</td>\n",
       "      <td>Khalid Al-Ghamdi</td>\n",
       "      <td>35</td>\n",
       "      <td>Defence</td>\n",
       "      <td>Retired</td>\n",
       "      <td>Retired</td>\n",
       "      <td>out</td>\n",
       "      <td>Summer</td>\n",
       "      <td>0.0</td>\n",
       "      <td>Saudi Professional League</td>\n",
       "      <td>2023</td>\n",
       "      <td>2023/2024</td>\n",
       "      <td>Saudi Arabia</td>\n",
       "      <td>Right-Back</td>\n",
       "      <td>Retired</td>\n",
       "    </tr>\n",
       "  </tbody>\n",
       "</table>\n",
       "<p>130 rows × 15 columns</p>\n",
       "</div>"
      ],
      "text/plain": [
       "         club_name         player_name  age    position club_involved_name  \\\n",
       "3     Al-Hilal SFC   Saleh Al-Salloumi   37  Goalkeeper            Retired   \n",
       "4     Al-Hilal SFC       Elijah Litana   29     Defence            Retired   \n",
       "11    Ittihad Club    Roberto Donadoni   36    Midfield            Retired   \n",
       "15     Al-Nassr FC      Fahad Al Bishi   34    Midfield            Retired   \n",
       "27    Al-Riyadh SC        Moussa N'Daw   31     Forward            Retired   \n",
       "...            ...                 ...  ...         ...                ...   \n",
       "6929  Ittihad Club     Karim El Ahmadi   37    Midfield            Retired   \n",
       "7181   Al-Raed SFC                Éder   34     Forward            Retired   \n",
       "7227     Abha Club       Karam Barnawi   35     Defence            Retired   \n",
       "7517   Al-Ahli SFC  Yasser Al-Mosailem   39  Goalkeeper            Retired   \n",
       "7649  Al-Shabab FC    Khalid Al-Ghamdi   35     Defence            Retired   \n",
       "\n",
       "          fee transfer_movement transfer_period  fee_cleaned  \\\n",
       "3     Retired               out          Summer          0.0   \n",
       "4     Retired               out          Summer          0.0   \n",
       "11    Retired               out          Summer          0.0   \n",
       "15    Retired               out          Summer          0.0   \n",
       "27    Retired               out          Summer          0.0   \n",
       "...       ...               ...             ...          ...   \n",
       "6929  Retired               out          Winter          0.0   \n",
       "7181  Retired               out          Summer          0.0   \n",
       "7227  Retired               out          Summer          0.0   \n",
       "7517  Retired               out          Summer          0.0   \n",
       "7649  Retired               out          Summer          0.0   \n",
       "\n",
       "                    league_name  year     season       country  \\\n",
       "3     Saudi Professional League  2000  2000/2001  Saudi Arabia   \n",
       "4     Saudi Professional League  2000  2000/2001  Saudi Arabia   \n",
       "11    Saudi Professional League  2000  2000/2001  Saudi Arabia   \n",
       "15    Saudi Professional League  2000  2000/2001  Saudi Arabia   \n",
       "27    Saudi Professional League  2000  2000/2001  Saudi Arabia   \n",
       "...                         ...   ...        ...           ...   \n",
       "6929  Saudi Professional League  2021  2021/2022  Saudi Arabia   \n",
       "7181  Saudi Professional League  2022  2022/2023  Saudi Arabia   \n",
       "7227  Saudi Professional League  2022  2022/2023  Saudi Arabia   \n",
       "7517  Saudi Professional League  2023  2023/2024  Saudi Arabia   \n",
       "7649  Saudi Professional League  2023  2023/2024  Saudi Arabia   \n",
       "\n",
       "       specific position type_operation  \n",
       "3             Goalkeeper        Retired  \n",
       "4            Centre-Back        Retired  \n",
       "11        Right Midfield        Retired  \n",
       "15              Midfield        Retired  \n",
       "27        Centre-Forward        Retired  \n",
       "...                  ...            ...  \n",
       "6929  Defensive Midfield        Retired  \n",
       "7181      Centre-Forward        Retired  \n",
       "7227          Right-Back        Retired  \n",
       "7517          Goalkeeper        Retired  \n",
       "7649          Right-Back        Retired  \n",
       "\n",
       "[130 rows x 15 columns]"
      ]
     },
     "execution_count": 54,
     "metadata": {},
     "output_type": "execute_result"
    }
   ],
   "source": [
    "df[df['fee'] == 'Retired']"
   ]
  },
  {
   "cell_type": "code",
   "execution_count": 52,
   "metadata": {},
   "outputs": [],
   "source": [
    "\n",
    "# Verificar si 'Retired' está en la columna 'club_involved_name' y actualizar las columnas 'type_operation' y 'fee'\n",
    "df.loc[df['club_involved_name'] == 'Retired', ['type_operation', 'fee']] = ['Retired', 'Retired']\n"
   ]
  },
  {
   "cell_type": "code",
   "execution_count": 57,
   "metadata": {},
   "outputs": [
    {
     "data": {
      "text/plain": [
       "(3238, 15)"
      ]
     },
     "execution_count": 57,
     "metadata": {},
     "output_type": "execute_result"
    }
   ],
   "source": [
    "df[df['fee']=='-'].shape"
   ]
  }
 ],
 "metadata": {
  "kernelspec": {
   "display_name": "Python 3.11.1 64-bit",
   "language": "python",
   "name": "python3"
  },
  "language_info": {
   "codemirror_mode": {
    "name": "ipython",
    "version": 3
   },
   "file_extension": ".py",
   "mimetype": "text/x-python",
   "name": "python",
   "nbconvert_exporter": "python",
   "pygments_lexer": "ipython3",
   "version": "3.11.1"
  },
  "orig_nbformat": 4,
  "vscode": {
   "interpreter": {
    "hash": "b58d8afad29769750a1e2256a8ad1358e335723359754ebc5cc416c5c1bf1079"
   }
  }
 },
 "nbformat": 4,
 "nbformat_minor": 2
}
